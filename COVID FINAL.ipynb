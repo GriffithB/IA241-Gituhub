{
 "cells": [
  {
   "cell_type": "markdown",
   "id": "095d8c7e",
   "metadata": {},
   "source": [
    "## Visualizing Covid19 data for Iceland in 2020"
   ]
  },
  {
   "cell_type": "markdown",
   "id": "6a784096",
   "metadata": {},
   "source": [
    "## data source"
   ]
  },
  {
   "cell_type": "markdown",
   "id": "f220f955",
   "metadata": {},
   "source": [
    "The data is from [European Centre for Disease Prevention and Control](https://ia241-bullard.notebook.us-east-1.sagemaker.aws/notebooks/IA241-Gituhub/COVID%20FINAL.ipynb#:~:text=European%20Centre%20for%20Disease%20Prevention%20and%20Control)\n",
    "\n"
   ]
  },
  {
   "cell_type": "markdown",
   "id": "4a26858b",
   "metadata": {},
   "source": [
    "![iceland flag](data:image/png;base64,iVBORw0KGgoAAAANSUhEUgAAAQcAAADACAMAAAA+71YtAAAApVBMVEUjQJDWKij///8jQI4jP5L8///WKSrYHBrMWlomQ5H//v1peqz//vkVOokXOY1seK3ZhYTTKyvTb2zUb3IdPYckPpIVNY5HWJ2CkrDVKijVJBwpRpbULCfbKCMVO4ckPZYFLYlCVZOiq8Zpe6fIX1/QNjvVNjXfJCjPLSrOLyPeJC7VLCDgIiXdGw7eGRjSioTdQUrbb3DcanDNc2//+P+Di65FVYyORd5lAAADqklEQVR4nO3dbW/aZhhA4QcTm8ZQGA3NSLCbpUuXt75sa7f//9Nm5ywtGFUQ6XZLpHNF+QKSb3P0mETYyGl1HGS6zLJJhlf1/K4abKpPsvz/p7NfF0dRY2Os0nFqDAOcrncYzYtuh9Fmh4iRMdoAx3SIsKvD+UaH18OouSF+YIfRM+hwFOCpHSJmhljrEOHZroc2hB3aDsOhHezwyA6wA+wAO8AOsAPsADvADrAD7AA7wA6wA+wAO8AOsAPsADvADrAD7AA7wA6wA+wAO8AOsAPsADvADrAD7AA7wA6wA+wAO8AOsAPsADvADrAD7AA7wA6wA+wAO8AOsAPsADvADrAD7AA7wA6wA+yAn9rh6NA6HE2D/LbMyrLcp0OZXU5Po8aGeJnS+PfGOMDs7WTy+Ep3dMiXs1nIzBAPrz9lcSZfD4wdx8WXwKFBUtmahCj37ZA1A4NmBngoELcemveGx7eHXR3yPP/eVn4W1kPIpvJ8st/fi3LC74EIXg/rdh0Xh8cOsAPsADuglw7l51E9n3c61Cd9jIqSXvTg6t3g9mzQ7fDHi6urPqaFSOc9qK+Lm6rudLip+hgVpE5FD26r66Lqvj/cFdV9E+hApaLdx7NYxbxqNtk9MIr5vKqCJ0VoM8xTd28j3J1trYbBoKqK4mz74QPRS4dnyA6wA+wAO8AOsAPsADvADrAD7AA7wA6wA9KoB/X7m2LQ/ajh9vr8w8c+poVIv/Tg07vbYqt49Wcfo6L0c/7ir1E175YYHfbn9n1sNP/74/1Nt8OHV3mexZxZ70HKe5Cd3Ndbn0SOPpcPVz4cpp7O692fbb1PNsdFebhn9jy/CTvADrAD6FCG+LbVHdeJtRcqxowMsN4hxpcs3++64gP8LyLNZuNZiPHbbPK48HddX/3PeBw0NUSzL+lN62WA0+W+HSbZv6fTkJkh2gCLtOLa+807tX79ecLDbYdsr+Oi6XCRFumJ23/q/nSf+P5mmkdWNIi4/fN02Rz3e15fffl6uIiYGYIWfg/F7yXBDrAD7AA7wA6wA+wAO8AOsAPsADvADrAD7AA7wA6wA+wAO8AOsAPsADvADrAD7AA7wA6wA+wAO8AOsAPsADvADrAD7AA7wA6wA+wAO8AOsAPsADvADrAD7AA7wA6wA+wAO8AOsAPsADvADrAD7AA7wA7w/rygwypqc7s6nG90uDicDo0fuR7WO1y+uVhEzQ3RrIfjINP1DnXToXN7po0Oi4tF1NwQq/8AHrmtTfHgw9MAAAAASUVORK5CYII=)"
   ]
  },
  {
   "cell_type": "code",
   "execution_count": null,
   "id": "8d8ab493",
   "metadata": {},
   "outputs": [],
   "source": [
    "%matplotlib inline\n",
    "import pandas"
   ]
  },
  {
   "cell_type": "code",
   "execution_count": 7,
   "id": "4cfaa6f0",
   "metadata": {},
   "outputs": [
    {
     "data": {
      "text/html": [
       "<div>\n",
       "<style scoped>\n",
       "    .dataframe tbody tr th:only-of-type {\n",
       "        vertical-align: middle;\n",
       "    }\n",
       "\n",
       "    .dataframe tbody tr th {\n",
       "        vertical-align: top;\n",
       "    }\n",
       "\n",
       "    .dataframe thead th {\n",
       "        text-align: right;\n",
       "    }\n",
       "</style>\n",
       "<table border=\"1\" class=\"dataframe\">\n",
       "  <thead>\n",
       "    <tr style=\"text-align: right;\">\n",
       "      <th></th>\n",
       "      <th>dateRep</th>\n",
       "      <th>day</th>\n",
       "      <th>month</th>\n",
       "      <th>year</th>\n",
       "      <th>cases</th>\n",
       "      <th>deaths</th>\n",
       "      <th>countriesAndTerritories</th>\n",
       "      <th>geoId</th>\n",
       "      <th>countryterritoryCode</th>\n",
       "      <th>popData2019</th>\n",
       "      <th>continentExp</th>\n",
       "      <th>Cumulative_number_for_14_days_of_COVID-19_cases_per_100000</th>\n",
       "    </tr>\n",
       "  </thead>\n",
       "  <tbody>\n",
       "    <tr>\n",
       "      <th>0</th>\n",
       "      <td>14/12/2020</td>\n",
       "      <td>14</td>\n",
       "      <td>12</td>\n",
       "      <td>2020</td>\n",
       "      <td>746</td>\n",
       "      <td>6</td>\n",
       "      <td>Afghanistan</td>\n",
       "      <td>AF</td>\n",
       "      <td>AFG</td>\n",
       "      <td>38041757.0</td>\n",
       "      <td>Asia</td>\n",
       "      <td>9.013779</td>\n",
       "    </tr>\n",
       "    <tr>\n",
       "      <th>1</th>\n",
       "      <td>13/12/2020</td>\n",
       "      <td>13</td>\n",
       "      <td>12</td>\n",
       "      <td>2020</td>\n",
       "      <td>298</td>\n",
       "      <td>9</td>\n",
       "      <td>Afghanistan</td>\n",
       "      <td>AF</td>\n",
       "      <td>AFG</td>\n",
       "      <td>38041757.0</td>\n",
       "      <td>Asia</td>\n",
       "      <td>7.052776</td>\n",
       "    </tr>\n",
       "    <tr>\n",
       "      <th>2</th>\n",
       "      <td>2020-12-12 00:00:00</td>\n",
       "      <td>12</td>\n",
       "      <td>12</td>\n",
       "      <td>2020</td>\n",
       "      <td>113</td>\n",
       "      <td>11</td>\n",
       "      <td>Afghanistan</td>\n",
       "      <td>AF</td>\n",
       "      <td>AFG</td>\n",
       "      <td>38041757.0</td>\n",
       "      <td>Asia</td>\n",
       "      <td>6.868768</td>\n",
       "    </tr>\n",
       "    <tr>\n",
       "      <th>3</th>\n",
       "      <td>2020-11-12 00:00:00</td>\n",
       "      <td>11</td>\n",
       "      <td>12</td>\n",
       "      <td>2020</td>\n",
       "      <td>63</td>\n",
       "      <td>10</td>\n",
       "      <td>Afghanistan</td>\n",
       "      <td>AF</td>\n",
       "      <td>AFG</td>\n",
       "      <td>38041757.0</td>\n",
       "      <td>Asia</td>\n",
       "      <td>7.134266</td>\n",
       "    </tr>\n",
       "    <tr>\n",
       "      <th>4</th>\n",
       "      <td>2020-10-12 00:00:00</td>\n",
       "      <td>10</td>\n",
       "      <td>12</td>\n",
       "      <td>2020</td>\n",
       "      <td>202</td>\n",
       "      <td>16</td>\n",
       "      <td>Afghanistan</td>\n",
       "      <td>AF</td>\n",
       "      <td>AFG</td>\n",
       "      <td>38041757.0</td>\n",
       "      <td>Asia</td>\n",
       "      <td>6.968658</td>\n",
       "    </tr>\n",
       "    <tr>\n",
       "      <th>5</th>\n",
       "      <td>2020-09-12 00:00:00</td>\n",
       "      <td>9</td>\n",
       "      <td>12</td>\n",
       "      <td>2020</td>\n",
       "      <td>135</td>\n",
       "      <td>13</td>\n",
       "      <td>Afghanistan</td>\n",
       "      <td>AF</td>\n",
       "      <td>AFG</td>\n",
       "      <td>38041757.0</td>\n",
       "      <td>Asia</td>\n",
       "      <td>6.963401</td>\n",
       "    </tr>\n",
       "    <tr>\n",
       "      <th>6</th>\n",
       "      <td>2020-08-12 00:00:00</td>\n",
       "      <td>8</td>\n",
       "      <td>12</td>\n",
       "      <td>2020</td>\n",
       "      <td>200</td>\n",
       "      <td>6</td>\n",
       "      <td>Afghanistan</td>\n",
       "      <td>AF</td>\n",
       "      <td>AFG</td>\n",
       "      <td>38041757.0</td>\n",
       "      <td>Asia</td>\n",
       "      <td>7.094835</td>\n",
       "    </tr>\n",
       "    <tr>\n",
       "      <th>7</th>\n",
       "      <td>2020-07-12 00:00:00</td>\n",
       "      <td>7</td>\n",
       "      <td>12</td>\n",
       "      <td>2020</td>\n",
       "      <td>210</td>\n",
       "      <td>26</td>\n",
       "      <td>Afghanistan</td>\n",
       "      <td>AF</td>\n",
       "      <td>AFG</td>\n",
       "      <td>38041757.0</td>\n",
       "      <td>Asia</td>\n",
       "      <td>7.215755</td>\n",
       "    </tr>\n",
       "    <tr>\n",
       "      <th>8</th>\n",
       "      <td>2020-06-12 00:00:00</td>\n",
       "      <td>6</td>\n",
       "      <td>12</td>\n",
       "      <td>2020</td>\n",
       "      <td>234</td>\n",
       "      <td>10</td>\n",
       "      <td>Afghanistan</td>\n",
       "      <td>AF</td>\n",
       "      <td>AFG</td>\n",
       "      <td>38041757.0</td>\n",
       "      <td>Asia</td>\n",
       "      <td>7.326160</td>\n",
       "    </tr>\n",
       "    <tr>\n",
       "      <th>9</th>\n",
       "      <td>2020-05-12 00:00:00</td>\n",
       "      <td>5</td>\n",
       "      <td>12</td>\n",
       "      <td>2020</td>\n",
       "      <td>235</td>\n",
       "      <td>18</td>\n",
       "      <td>Afghanistan</td>\n",
       "      <td>AF</td>\n",
       "      <td>AFG</td>\n",
       "      <td>38041757.0</td>\n",
       "      <td>Asia</td>\n",
       "      <td>7.115865</td>\n",
       "    </tr>\n",
       "  </tbody>\n",
       "</table>\n",
       "</div>"
      ],
      "text/plain": [
       "               dateRep  day  month  year  cases  deaths  \\\n",
       "0           14/12/2020   14     12  2020    746       6   \n",
       "1           13/12/2020   13     12  2020    298       9   \n",
       "2  2020-12-12 00:00:00   12     12  2020    113      11   \n",
       "3  2020-11-12 00:00:00   11     12  2020     63      10   \n",
       "4  2020-10-12 00:00:00   10     12  2020    202      16   \n",
       "5  2020-09-12 00:00:00    9     12  2020    135      13   \n",
       "6  2020-08-12 00:00:00    8     12  2020    200       6   \n",
       "7  2020-07-12 00:00:00    7     12  2020    210      26   \n",
       "8  2020-06-12 00:00:00    6     12  2020    234      10   \n",
       "9  2020-05-12 00:00:00    5     12  2020    235      18   \n",
       "\n",
       "  countriesAndTerritories geoId countryterritoryCode  popData2019  \\\n",
       "0             Afghanistan    AF                  AFG   38041757.0   \n",
       "1             Afghanistan    AF                  AFG   38041757.0   \n",
       "2             Afghanistan    AF                  AFG   38041757.0   \n",
       "3             Afghanistan    AF                  AFG   38041757.0   \n",
       "4             Afghanistan    AF                  AFG   38041757.0   \n",
       "5             Afghanistan    AF                  AFG   38041757.0   \n",
       "6             Afghanistan    AF                  AFG   38041757.0   \n",
       "7             Afghanistan    AF                  AFG   38041757.0   \n",
       "8             Afghanistan    AF                  AFG   38041757.0   \n",
       "9             Afghanistan    AF                  AFG   38041757.0   \n",
       "\n",
       "  continentExp  Cumulative_number_for_14_days_of_COVID-19_cases_per_100000  \n",
       "0         Asia                                           9.013779           \n",
       "1         Asia                                           7.052776           \n",
       "2         Asia                                           6.868768           \n",
       "3         Asia                                           7.134266           \n",
       "4         Asia                                           6.968658           \n",
       "5         Asia                                           6.963401           \n",
       "6         Asia                                           7.094835           \n",
       "7         Asia                                           7.215755           \n",
       "8         Asia                                           7.326160           \n",
       "9         Asia                                           7.115865           "
      ]
     },
     "execution_count": 7,
     "metadata": {},
     "output_type": "execute_result"
    }
   ],
   "source": [
    "df = pandas.read_excel('s3://ia241-bullard/covid_data.xls')\n",
    "df[:10]"
   ]
  },
  {
   "cell_type": "markdown",
   "id": "c3c17dd9",
   "metadata": {},
   "source": [
    "## Data On Iceland"
   ]
  },
  {
   "cell_type": "code",
   "execution_count": 65,
   "id": "4c6a5ad9",
   "metadata": {},
   "outputs": [
    {
     "data": {
      "text/html": [
       "<div>\n",
       "<style scoped>\n",
       "    .dataframe tbody tr th:only-of-type {\n",
       "        vertical-align: middle;\n",
       "    }\n",
       "\n",
       "    .dataframe tbody tr th {\n",
       "        vertical-align: top;\n",
       "    }\n",
       "\n",
       "    .dataframe thead th {\n",
       "        text-align: right;\n",
       "    }\n",
       "</style>\n",
       "<table border=\"1\" class=\"dataframe\">\n",
       "  <thead>\n",
       "    <tr style=\"text-align: right;\">\n",
       "      <th></th>\n",
       "      <th>dateRep</th>\n",
       "      <th>day</th>\n",
       "      <th>month</th>\n",
       "      <th>year</th>\n",
       "      <th>cases</th>\n",
       "      <th>deaths</th>\n",
       "      <th>countriesAndTerritories</th>\n",
       "      <th>geoId</th>\n",
       "      <th>countryterritoryCode</th>\n",
       "      <th>popData2019</th>\n",
       "      <th>continentExp</th>\n",
       "      <th>Cumulative_number_for_14_days_of_COVID-19_cases_per_100000</th>\n",
       "    </tr>\n",
       "  </thead>\n",
       "  <tbody>\n",
       "    <tr>\n",
       "      <th>26395</th>\n",
       "      <td>14/12/2020</td>\n",
       "      <td>14</td>\n",
       "      <td>12</td>\n",
       "      <td>2020</td>\n",
       "      <td>5</td>\n",
       "      <td>0</td>\n",
       "      <td>Iceland</td>\n",
       "      <td>IS</td>\n",
       "      <td>ISL</td>\n",
       "      <td>356991.0</td>\n",
       "      <td>Europe</td>\n",
       "      <td>49.300963</td>\n",
       "    </tr>\n",
       "    <tr>\n",
       "      <th>26396</th>\n",
       "      <td>13/12/2020</td>\n",
       "      <td>13</td>\n",
       "      <td>12</td>\n",
       "      <td>2020</td>\n",
       "      <td>13</td>\n",
       "      <td>0</td>\n",
       "      <td>Iceland</td>\n",
       "      <td>IS</td>\n",
       "      <td>ISL</td>\n",
       "      <td>356991.0</td>\n",
       "      <td>Europe</td>\n",
       "      <td>50.701558</td>\n",
       "    </tr>\n",
       "    <tr>\n",
       "      <th>26397</th>\n",
       "      <td>2020-12-12 00:00:00</td>\n",
       "      <td>12</td>\n",
       "      <td>12</td>\n",
       "      <td>2020</td>\n",
       "      <td>15</td>\n",
       "      <td>0</td>\n",
       "      <td>Iceland</td>\n",
       "      <td>IS</td>\n",
       "      <td>ISL</td>\n",
       "      <td>356991.0</td>\n",
       "      <td>Europe</td>\n",
       "      <td>54.062988</td>\n",
       "    </tr>\n",
       "    <tr>\n",
       "      <th>26398</th>\n",
       "      <td>2020-11-12 00:00:00</td>\n",
       "      <td>11</td>\n",
       "      <td>12</td>\n",
       "      <td>2020</td>\n",
       "      <td>8</td>\n",
       "      <td>0</td>\n",
       "      <td>Iceland</td>\n",
       "      <td>IS</td>\n",
       "      <td>ISL</td>\n",
       "      <td>356991.0</td>\n",
       "      <td>Europe</td>\n",
       "      <td>56.303940</td>\n",
       "    </tr>\n",
       "    <tr>\n",
       "      <th>26399</th>\n",
       "      <td>2020-10-12 00:00:00</td>\n",
       "      <td>10</td>\n",
       "      <td>12</td>\n",
       "      <td>2020</td>\n",
       "      <td>10</td>\n",
       "      <td>0</td>\n",
       "      <td>Iceland</td>\n",
       "      <td>IS</td>\n",
       "      <td>ISL</td>\n",
       "      <td>356991.0</td>\n",
       "      <td>Europe</td>\n",
       "      <td>57.144298</td>\n",
       "    </tr>\n",
       "    <tr>\n",
       "      <th>26400</th>\n",
       "      <td>2020-09-12 00:00:00</td>\n",
       "      <td>9</td>\n",
       "      <td>12</td>\n",
       "      <td>2020</td>\n",
       "      <td>10</td>\n",
       "      <td>1</td>\n",
       "      <td>Iceland</td>\n",
       "      <td>IS</td>\n",
       "      <td>ISL</td>\n",
       "      <td>356991.0</td>\n",
       "      <td>Europe</td>\n",
       "      <td>58.264774</td>\n",
       "    </tr>\n",
       "    <tr>\n",
       "      <th>26401</th>\n",
       "      <td>2020-08-12 00:00:00</td>\n",
       "      <td>8</td>\n",
       "      <td>12</td>\n",
       "      <td>2020</td>\n",
       "      <td>14</td>\n",
       "      <td>0</td>\n",
       "      <td>Iceland</td>\n",
       "      <td>IS</td>\n",
       "      <td>ISL</td>\n",
       "      <td>356991.0</td>\n",
       "      <td>Europe</td>\n",
       "      <td>57.984655</td>\n",
       "    </tr>\n",
       "    <tr>\n",
       "      <th>26402</th>\n",
       "      <td>2020-07-12 00:00:00</td>\n",
       "      <td>7</td>\n",
       "      <td>12</td>\n",
       "      <td>2020</td>\n",
       "      <td>6</td>\n",
       "      <td>0</td>\n",
       "      <td>Iceland</td>\n",
       "      <td>IS</td>\n",
       "      <td>ISL</td>\n",
       "      <td>356991.0</td>\n",
       "      <td>Europe</td>\n",
       "      <td>57.424417</td>\n",
       "    </tr>\n",
       "    <tr>\n",
       "      <th>26403</th>\n",
       "      <td>2020-06-12 00:00:00</td>\n",
       "      <td>6</td>\n",
       "      <td>12</td>\n",
       "      <td>2020</td>\n",
       "      <td>14</td>\n",
       "      <td>0</td>\n",
       "      <td>Iceland</td>\n",
       "      <td>IS</td>\n",
       "      <td>ISL</td>\n",
       "      <td>356991.0</td>\n",
       "      <td>Europe</td>\n",
       "      <td>57.984655</td>\n",
       "    </tr>\n",
       "    <tr>\n",
       "      <th>26404</th>\n",
       "      <td>2020-05-12 00:00:00</td>\n",
       "      <td>5</td>\n",
       "      <td>12</td>\n",
       "      <td>2020</td>\n",
       "      <td>14</td>\n",
       "      <td>0</td>\n",
       "      <td>Iceland</td>\n",
       "      <td>IS</td>\n",
       "      <td>ISL</td>\n",
       "      <td>356991.0</td>\n",
       "      <td>Europe</td>\n",
       "      <td>59.105131</td>\n",
       "    </tr>\n",
       "  </tbody>\n",
       "</table>\n",
       "</div>"
      ],
      "text/plain": [
       "                   dateRep  day  month  year  cases  deaths  \\\n",
       "26395           14/12/2020   14     12  2020      5       0   \n",
       "26396           13/12/2020   13     12  2020     13       0   \n",
       "26397  2020-12-12 00:00:00   12     12  2020     15       0   \n",
       "26398  2020-11-12 00:00:00   11     12  2020      8       0   \n",
       "26399  2020-10-12 00:00:00   10     12  2020     10       0   \n",
       "26400  2020-09-12 00:00:00    9     12  2020     10       1   \n",
       "26401  2020-08-12 00:00:00    8     12  2020     14       0   \n",
       "26402  2020-07-12 00:00:00    7     12  2020      6       0   \n",
       "26403  2020-06-12 00:00:00    6     12  2020     14       0   \n",
       "26404  2020-05-12 00:00:00    5     12  2020     14       0   \n",
       "\n",
       "      countriesAndTerritories geoId countryterritoryCode  popData2019  \\\n",
       "26395                 Iceland    IS                  ISL     356991.0   \n",
       "26396                 Iceland    IS                  ISL     356991.0   \n",
       "26397                 Iceland    IS                  ISL     356991.0   \n",
       "26398                 Iceland    IS                  ISL     356991.0   \n",
       "26399                 Iceland    IS                  ISL     356991.0   \n",
       "26400                 Iceland    IS                  ISL     356991.0   \n",
       "26401                 Iceland    IS                  ISL     356991.0   \n",
       "26402                 Iceland    IS                  ISL     356991.0   \n",
       "26403                 Iceland    IS                  ISL     356991.0   \n",
       "26404                 Iceland    IS                  ISL     356991.0   \n",
       "\n",
       "      continentExp  Cumulative_number_for_14_days_of_COVID-19_cases_per_100000  \n",
       "26395       Europe                                          49.300963           \n",
       "26396       Europe                                          50.701558           \n",
       "26397       Europe                                          54.062988           \n",
       "26398       Europe                                          56.303940           \n",
       "26399       Europe                                          57.144298           \n",
       "26400       Europe                                          58.264774           \n",
       "26401       Europe                                          57.984655           \n",
       "26402       Europe                                          57.424417           \n",
       "26403       Europe                                          57.984655           \n",
       "26404       Europe                                          59.105131           "
      ]
     },
     "execution_count": 65,
     "metadata": {},
     "output_type": "execute_result"
    }
   ],
   "source": [
    "iceland_data = df.loc[ df['countriesAndTerritories']=='Iceland'  ]\n",
    "iceland_data[:10]"
   ]
  },
  {
   "cell_type": "markdown",
   "id": "a8311d2c",
   "metadata": {},
   "source": [
    "## Case count across months"
   ]
  },
  {
   "cell_type": "code",
   "execution_count": 66,
   "id": "c0e2b83f",
   "metadata": {},
   "outputs": [
    {
     "name": "stdout",
     "output_type": "stream",
     "text": [
      "month\n",
      "1        0\n",
      "2        1\n",
      "3     1085\n",
      "4      711\n",
      "5        9\n",
      "6       16\n",
      "7       50\n",
      "8      233\n",
      "9      590\n",
      "10    2102\n",
      "11     584\n",
      "12     176\n",
      "Name: cases, dtype: int64\n"
     ]
    }
   ],
   "source": [
    "cases_per_day = iceland_data.groupby('month').sum()['cases']\n",
    "print(cases_per_day)"
   ]
  },
  {
   "cell_type": "code",
   "execution_count": 41,
   "id": "d6884c82",
   "metadata": {},
   "outputs": [
    {
     "data": {
      "text/plain": [
       "<AxesSubplot:xlabel='month'>"
      ]
     },
     "execution_count": 41,
     "metadata": {},
     "output_type": "execute_result"
    },
    {
     "data": {
      "image/png": "[encoded data removed]",
      "text/plain": [
       "<Figure size 432x288 with 1 Axes>"
      ]
     },
     "metadata": {
      "needs_background": "light"
     },
     "output_type": "display_data"
    }
   ],
   "source": [
    "cases_per_day.plot()"
   ]
  },
  {
   "cell_type": "code",
   "execution_count": 104,
   "id": "473d995a",
   "metadata": {},
   "outputs": [
    {
     "name": "stdout",
     "output_type": "stream",
     "text": [
      "Iceland had 5557 cases in 2020.\n"
     ]
    }
   ],
   "source": [
    "cases=iceland_data.sum()['cases']\n",
    "print('Iceland had {} cases in 2020.'.format(cases))"
   ]
  },
  {
   "cell_type": "markdown",
   "id": "0d8ec274",
   "metadata": {},
   "source": [
    "Iceland had their first case in February. Two distinct rising trends are shown. First rise was in March peaking at 1085 cases. Second rise began in September with 590 and peaked in October with 2102. Over the course of 2020 Iceland had 5557 total cases."
   ]
  },
  {
   "cell_type": "markdown",
   "id": "50d85efa",
   "metadata": {},
   "source": [
    "## Data on Covid deaths"
   ]
  },
  {
   "cell_type": "code",
   "execution_count": 103,
   "id": "3fe7b4b3",
   "metadata": {},
   "outputs": [
    {
     "name": "stdout",
     "output_type": "stream",
     "text": [
      "Iceland had 28 deaths in 2020.\n"
     ]
    }
   ],
   "source": [
    "iceland_death=iceland_data.sum()['deaths']\n",
    "print('Iceland had {} deaths in 2020.'.format(iceland_death))"
   ]
  },
  {
   "cell_type": "code",
   "execution_count": 47,
   "id": "0f2884b1",
   "metadata": {},
   "outputs": [
    {
     "data": {
      "text/plain": [
       "<AxesSubplot:xlabel='cases', ylabel='deaths'>"
      ]
     },
     "execution_count": 47,
     "metadata": {},
     "output_type": "execute_result"
    },
    {
     "data": {
      "image/png": "[encoded data removed]",
      "text/plain": [
       "<Figure size 432x288 with 2 Axes>"
      ]
     },
     "metadata": {
      "needs_background": "light"
     },
     "output_type": "display_data"
    }
   ],
   "source": [
    "iceland_data.plot.scatter(x='cases',y='deaths',c='month')"
   ]
  },
  {
   "cell_type": "markdown",
   "id": "089aa625",
   "metadata": {},
   "source": [
    "A seemingly lackluster scatter plot due to Iceland's relative low case to death ratio. With only 28 deaths across 2020 Iceland had a mortality rate of 0.005."
   ]
  },
  {
   "cell_type": "markdown",
   "id": "e0d860df",
   "metadata": {},
   "source": [
    "## Continent Data"
   ]
  },
  {
   "cell_type": "code",
   "execution_count": 86,
   "id": "5d401e90",
   "metadata": {},
   "outputs": [
    {
     "name": "stdout",
     "output_type": "stream",
     "text": [
      "In 2020 Europe had 21400012 cases and 479789 deaths.\n"
     ]
    }
   ],
   "source": [
    "europe_data= df.loc[ df['continentExp']=='Europe'  ]\n",
    "e_cases=europe_data.sum()['cases']\n",
    "e_deaths=europe_data.sum()['deaths']\n",
    "print('In 2020 Europe had {} cases and {} deaths.'.format(e_cases,e_deaths))"
   ]
  },
  {
   "cell_type": "code",
   "execution_count": 90,
   "id": "b2b37062",
   "metadata": {},
   "outputs": [
    {
     "data": {
      "text/plain": [
       "<AxesSubplot:xlabel='continentExp'>"
      ]
     },
     "execution_count": 90,
     "metadata": {},
     "output_type": "execute_result"
    },
    {
     "data": {
      "image/png": "[encoded data removed]",
      "text/plain": [
       "<Figure size 432x288 with 1 Axes>"
      ]
     },
     "metadata": {
      "needs_background": "light"
     },
     "output_type": "display_data"
    }
   ],
   "source": [
    "sum_deaths_per_continent=df.groupby('continentExp').sum()['deaths']\n",
    "sum_deaths_per_continent.nlargest(10).plot.bar()"
   ]
  },
  {
   "cell_type": "markdown",
   "id": "3a13ec05",
   "metadata": {},
   "source": [
    "This bar graph brings together the continents with the most deaths and shows each continents total death count. This is done to show Iceland's low contribution of cases to the total of Europe. Finally Europe is contrasted to America's massive death count."
   ]
  },
  {
   "cell_type": "markdown",
   "id": "4d774462",
   "metadata": {},
   "source": [
    "## Explanation of equations"
   ]
  },
  {
   "cell_type": "markdown",
   "id": "f32a59ab",
   "metadata": {},
   "source": [
    "My equations revolved around pulling data specifc for Iceland, from there sorting out cases/death per month. I made a line, bar and scatter plot to display the respective data and trends relative to month. Because Iceland had very low cases throughout 2020 my equations focused on displaying rather than maninpulating."
   ]
  },
  {
   "cell_type": "markdown",
   "id": "273ec8c5",
   "metadata": {},
   "source": [
    "## Limitations"
   ]
  },
  {
   "cell_type": "markdown",
   "id": "98b839b7",
   "metadata": {},
   "source": [
    "The most evident limitaion of this project is the use of an outdated data set. Iceland is a perfect example for such limitation. In 2020 Iceland had a very low case rate however through 2021-2022 this rate has gone up substantially since this data was posted. Fixing this limitation could be done by using a more current data set or even linking this webpage to a constantly updated case count specifically on Iceland."
   ]
  },
  {
   "attachments": {},
   "cell_type": "markdown",
   "id": "5c701ff7",
   "metadata": {},
   "source": [
    "![update](data:image/jpeg;base64,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)"
   ]
  },
  {
   "cell_type": "markdown",
   "id": "70c01ae3",
   "metadata": {},
   "source": [
    "For further proof this graph from [Statista.com](https://www.statista.com/statistics/1106822/cumulative-coronavirus-cases-in-iceland/) shows the true effect of Covid 19 on Iceland. The trend of very low cases from 2020 presisted into December 21' where there was steep rise totally at 172,507 cases as of March 22'."
   ]
  },
  {
   "cell_type": "markdown",
   "id": "778084a5",
   "metadata": {},
   "source": [
    "## Conclusion & Author"
   ]
  },
  {
   "cell_type": "markdown",
   "id": "1bb3baa7",
   "metadata": {},
   "source": [
    "While undeniably a well done project that \"accurately\" displays Iceland's Covid data, this data is still from 2020 and has since become obsolete. Iceland's 2020 data != current numbers. Iceland was not able to maintain their low numbers nor the rise and fall trend seen following the months of March and October where the numbers fell to single digits. Growing cases in Iceland did not change the mortality rate, with only 119 Covid19 deaths Iceland maintained less than %0.0006 mortality rate. Deaths per capita = 33.87.\n",
    "\n",
    "Lead Analyst - Griffith Bullard\n",
    "bullargl@dukes.jmu.edu"
   ]
  },
  {
   "cell_type": "code",
   "execution_count": null,
   "id": "f1dfb2c9",
   "metadata": {},
   "outputs": [],
   "source": []
  }
 ],
 "metadata": {
  "kernelspec": {
   "display_name": "conda_python3",
   "language": "python",
   "name": "conda_python3"
  },
  "language_info": {
   "codemirror_mode": {
    "name": "ipython",
    "version": 3
   },
   "file_extension": ".py",
   "mimetype": "text/x-python",
   "name": "python",
   "nbconvert_exporter": "python",
   "pygments_lexer": "ipython3",
   "version": "3.6.13"
  }
 },
 "nbformat": 4,
 "nbformat_minor": 5
}
